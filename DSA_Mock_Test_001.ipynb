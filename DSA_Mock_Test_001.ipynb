{
  "nbformat": 4,
  "nbformat_minor": 0,
  "metadata": {
    "colab": {
      "provenance": []
    },
    "kernelspec": {
      "name": "python3",
      "display_name": "Python 3"
    },
    "language_info": {
      "name": "python"
    }
  },
  "cells": [
    {
      "cell_type": "markdown",
      "source": [],
      "metadata": {
        "id": "_5jQ9iqZhHKU"
      }
    },
    {
      "cell_type": "markdown",
      "source": [
        "## DSA - Mock Test -1"
      ],
      "metadata": {
        "id": "Dzt3SEA3pX99"
      }
    },
    {
      "cell_type": "code",
      "execution_count": 2,
      "metadata": {
        "colab": {
          "base_uri": "https://localhost:8080/",
          "height": 70
        },
        "id": "t0Mak6w1hCdd",
        "outputId": "f3b7d7d8-f4df-4f20-f96e-fbc56c45d390"
      },
      "outputs": [
        {
          "output_type": "execute_result",
          "data": {
            "text/plain": [
              "\"\\n Move Zero\\nGiven an integer array nums, move all 0's to the end of it while maintaining the relative order of the non-zero elements.\\n\\nNote that you must do this in-place without making a copy of the array.\\n\\nExample 1:\\nInput: nums = [0,1,0,3,12]\\nOutput: [1,3,12,0,0]\\n\\nExample 2:\\nInput: nums = [0]\\nOutput: [0]\\n\\nConstraints:\\na. 1 <= nums.length <= 10^4\\nb. -2^31 <= nums[i] <= 2^31 - 1\\n\\n\""
            ],
            "application/vnd.google.colaboratory.intrinsic+json": {
              "type": "string"
            }
          },
          "metadata": {},
          "execution_count": 2
        }
      ],
      "source": [
        "'''\n",
        " Move Zero\n",
        "Given an integer array nums, move all 0's to the end of it while maintaining the relative order of the non-zero elements.\n",
        "\n",
        "Note that you must do this in-place without making a copy of the array.\n",
        "\n",
        "Example 1:\n",
        "Input: nums = [0,1,0,3,12]\n",
        "Output: [1,3,12,0,0]\n",
        "\n",
        "Example 2:\n",
        "Input: nums = [0]\n",
        "Output: [0]\n",
        "\n",
        "Constraints:\n",
        "a. 1 <= nums.length <= 10^4\n",
        "b. -2^31 <= nums[i] <= 2^31 - 1\n",
        "\n",
        "'''"
      ]
    },
    {
      "cell_type": "code",
      "source": [
        "nums = [0,1,0,3,12]\n",
        "\n",
        "for i in range(len(nums)):\n",
        "  if nums[i] == 0:\n",
        "    nums.append(nums[i])\n",
        "    nums.remove(nums[i])\n",
        "  else:\n",
        "    continue\n",
        "print(nums)"
      ],
      "metadata": {
        "colab": {
          "base_uri": "https://localhost:8080/"
        },
        "id": "4lEzYZfslNeI",
        "outputId": "1e52a909-bf95-4e78-adfc-54ddb87087a7"
      },
      "execution_count": 9,
      "outputs": [
        {
          "output_type": "stream",
          "name": "stdout",
          "text": [
            "[1, 3, 12, 0, 0]\n"
          ]
        }
      ]
    },
    {
      "cell_type": "code",
      "source": [
        "nums = [12,7,0,1,4,0,6,0,14]\n",
        "\n",
        "for i in range(len(nums)):\n",
        "  if nums[i] == 0:\n",
        "    nums.append(nums[i])\n",
        "    nums.remove(nums[i])\n",
        "  else:\n",
        "    continue\n",
        "print(nums)\n"
      ],
      "metadata": {
        "colab": {
          "base_uri": "https://localhost:8080/"
        },
        "id": "74gcHFDRhIDO",
        "outputId": "11018ff2-ca7a-40ba-8a9a-586533789fa0"
      },
      "execution_count": 6,
      "outputs": [
        {
          "output_type": "stream",
          "name": "stdout",
          "text": [
            "[12, 7, 1, 4, 6, 14, 0, 0, 0]\n"
          ]
        }
      ]
    },
    {
      "cell_type": "code",
      "source": [
        "nums = [0,25,12,7,0,1,4,0,6,0,24,0]\n",
        "\n",
        "for i in range(len(nums)):\n",
        "  if nums[i] == 0:\n",
        "    nums.append(nums[i])\n",
        "    nums.remove(nums[i])\n",
        "  else:\n",
        "    continue\n",
        "print(nums)"
      ],
      "metadata": {
        "colab": {
          "base_uri": "https://localhost:8080/"
        },
        "id": "RGwMp893hlaz",
        "outputId": "cb4221d9-e5dd-4ca9-9001-a92d9ca27d59"
      },
      "execution_count": 7,
      "outputs": [
        {
          "output_type": "stream",
          "name": "stdout",
          "text": [
            "[25, 12, 7, 1, 4, 6, 24, 0, 0, 0, 0, 0]\n"
          ]
        }
      ]
    },
    {
      "cell_type": "code",
      "source": [
        "nums = [0]\n",
        "\n",
        "for i in range(len(nums)):\n",
        "  if nums[i] == 0:\n",
        "    nums.append(nums[i])\n",
        "    nums.remove(nums[i])\n",
        "  else:\n",
        "    continue\n",
        "print(nums)"
      ],
      "metadata": {
        "colab": {
          "base_uri": "https://localhost:8080/"
        },
        "id": "UXd3DHGrlASi",
        "outputId": "4348372e-bdbf-434f-af76-0f521f725f89"
      },
      "execution_count": 8,
      "outputs": [
        {
          "output_type": "stream",
          "name": "stdout",
          "text": [
            "[0]\n"
          ]
        }
      ]
    },
    {
      "cell_type": "code",
      "source": [
        "'''\n",
        "First Unique Character in a String\n",
        "\n",
        "Given a string s, find the first non-repeating character in it and return its index. If it does not exist, return -1.\n",
        "\n",
        "Example 1:\n",
        "Input: s = \"leetcode\"\n",
        "Output: 0\n",
        "\n",
        "Example 2:\n",
        "Input: s = \"loveleetcode\"\n",
        "Output: 2\n",
        "\n",
        "Example 3:\n",
        "Input: s = \"aabb\"\n",
        "Output: -1\n",
        "\n",
        "Constraints:\n",
        "a. 1 <= s.length <= 10^5\n",
        "b. s consists of only lowercase English letters.\n",
        "\n",
        "'''"
      ],
      "metadata": {
        "colab": {
          "base_uri": "https://localhost:8080/",
          "height": 70
        },
        "id": "etvQDZoFlFZc",
        "outputId": "dde856ad-4831-4d3f-c52c-5b386b2b2f9b"
      },
      "execution_count": 10,
      "outputs": [
        {
          "output_type": "execute_result",
          "data": {
            "text/plain": [
              "'\\nFirst Unique Character in a String\\n\\nGiven a string s, find the first non-repeating character in it and return its index. If it does not exist, return -1.\\n\\nExample 1:\\nInput: s = \"leetcode\"\\nOutput: 0\\n\\nExample 2:\\nInput: s = \"loveleetcode\"\\nOutput: 2\\n\\nExample 3:\\nInput: s = \"aabb\"\\nOutput: -1\\n\\nConstraints:\\na. 1 <= s.length <= 10^5\\nb. s consists of only lowercase English letters.\\n\\n'"
            ],
            "application/vnd.google.colaboratory.intrinsic+json": {
              "type": "string"
            }
          },
          "metadata": {},
          "execution_count": 10
        }
      ]
    },
    {
      "cell_type": "code",
      "source": [
        "string = input(\"Enter a string: \")\n",
        "str_count = []\n",
        "for char in string:\n",
        "  str_count.append(string.count(char))\n",
        "  if string.count(char) < 2:\n",
        "    print(string.index(char))\n",
        "    break\n",
        "if 1 not in str_count:\n",
        "  print(-1)\n"
      ],
      "metadata": {
        "colab": {
          "base_uri": "https://localhost:8080/"
        },
        "id": "96o-0zaplqhD",
        "outputId": "45a185a5-e7d4-4fa0-8c41-1d71ad5cc3f6"
      },
      "execution_count": 21,
      "outputs": [
        {
          "output_type": "stream",
          "name": "stdout",
          "text": [
            "Enter a string: loveleetcode\n",
            "2\n"
          ]
        }
      ]
    },
    {
      "cell_type": "code",
      "source": [
        "string = input(\"Enter a string: \")\n",
        "str_count = []\n",
        "for char in string:\n",
        "  str_count.append(string.count(char))\n",
        "  if string.count(char) < 2:\n",
        "    print(string.index(char))\n",
        "    break\n",
        "if 1 not in str_count:\n",
        "  print(-1)"
      ],
      "metadata": {
        "colab": {
          "base_uri": "https://localhost:8080/"
        },
        "id": "bSJO4Tm3o0wP",
        "outputId": "12232c5b-c5ea-4186-8431-407c5f8167b1"
      },
      "execution_count": 23,
      "outputs": [
        {
          "output_type": "stream",
          "name": "stdout",
          "text": [
            "Enter a string: leetcode\n",
            "0\n"
          ]
        }
      ]
    },
    {
      "cell_type": "code",
      "source": [
        "string = input(\"Enter a string: \")\n",
        "str_count = []\n",
        "for char in string:\n",
        "  str_count.append(string.count(char))\n",
        "  if string.count(char) < 2:\n",
        "    print(string.index(char))\n",
        "    break\n",
        "if 1 not in str_count:\n",
        "  print(-1)"
      ],
      "metadata": {
        "colab": {
          "base_uri": "https://localhost:8080/"
        },
        "id": "936qpXf_o6nR",
        "outputId": "5f8c0a61-6041-4968-96f5-a29a05676f6b"
      },
      "execution_count": 24,
      "outputs": [
        {
          "output_type": "stream",
          "name": "stdout",
          "text": [
            "Enter a string: aabb\n",
            "-1\n"
          ]
        }
      ]
    },
    {
      "cell_type": "code",
      "source": [
        "string = input(\"Enter a string: \")\n",
        "str_count = []\n",
        "for char in string:\n",
        "  str_count.append(string.count(char))\n",
        "  if string.count(char) < 2:\n",
        "    print(string.index(char))\n",
        "    break\n",
        "if 1 not in str_count:\n",
        "  print(-1)"
      ],
      "metadata": {
        "colab": {
          "base_uri": "https://localhost:8080/"
        },
        "id": "8zGwESjBm-o9",
        "outputId": "25039982-6bf9-4f91-b2d1-1757fbed6028"
      },
      "execution_count": 22,
      "outputs": [
        {
          "output_type": "stream",
          "name": "stdout",
          "text": [
            "Enter a string: abcabcdef\n",
            "6\n"
          ]
        }
      ]
    },
    {
      "cell_type": "code",
      "source": [],
      "metadata": {
        "id": "7Vu52XXMnC1y"
      },
      "execution_count": 19,
      "outputs": []
    },
    {
      "cell_type": "markdown",
      "source": [
        "## Thank You"
      ],
      "metadata": {
        "id": "LCKvQTStpQU5"
      }
    },
    {
      "cell_type": "markdown",
      "source": [
        "## Abhishek Mohan, FSDS-2.0"
      ],
      "metadata": {
        "id": "t-H-UfnbpGj5"
      }
    },
    {
      "cell_type": "code",
      "source": [],
      "metadata": {
        "id": "PYJmcnsTpLU7"
      },
      "execution_count": null,
      "outputs": []
    }
  ]
}