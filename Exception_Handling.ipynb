{
 "cells": [
  {
   "cell_type": "markdown",
   "id": "c4f4b257",
   "metadata": {},
   "source": [
    "    IndexError:- When the wrong index of a list is retrieved.\n",
    "    AssertionError:-  It occurs when the assert statement fails\n",
    "    AttributeError:-  It occurs when an attribute assignment is failed.\n",
    "    ImportError:- \tIt occurs when an imported module is not found.\n",
    "    KeyError:-\t It occurs when the key of the dictionary is not found.\n",
    "    NameError:-\t It occurs when the variable is not defined.\n",
    "    MemoryError:-  It occurs when a program runs out of memory.\n",
    "    TypeError:-  It occurs when a function and operation are applied in an incorrect type."
   ]
  },
  {
   "cell_type": "code",
   "execution_count": 1,
   "id": "640b1b15",
   "metadata": {},
   "outputs": [
    {
     "data": {
      "text/plain": [
       "2.0"
      ]
     },
     "execution_count": 1,
     "metadata": {},
     "output_type": "execute_result"
    }
   ],
   "source": [
    "a=10\n",
    "a/5"
   ]
  },
  {
   "cell_type": "code",
   "execution_count": 2,
   "id": "6d12de4d",
   "metadata": {},
   "outputs": [
    {
     "ename": "ZeroDivisionError",
     "evalue": "division by zero",
     "output_type": "error",
     "traceback": [
      "\u001b[1;31m---------------------------------------------------------------------------\u001b[0m",
      "\u001b[1;31mZeroDivisionError\u001b[0m                         Traceback (most recent call last)",
      "Input \u001b[1;32mIn [2]\u001b[0m, in \u001b[0;36m<cell line: 1>\u001b[1;34m()\u001b[0m\n\u001b[1;32m----> 1\u001b[0m \u001b[43ma\u001b[49m\u001b[38;5;241;43m/\u001b[39;49m\u001b[38;5;241;43m0\u001b[39;49m\n",
      "\u001b[1;31mZeroDivisionError\u001b[0m: division by zero"
     ]
    }
   ],
   "source": [
    "a/0"
   ]
  },
  {
   "cell_type": "code",
   "execution_count": 3,
   "id": "a25814d8",
   "metadata": {},
   "outputs": [
    {
     "ename": "ZeroDivisionError",
     "evalue": "division by zero",
     "output_type": "error",
     "traceback": [
      "\u001b[1;31m---------------------------------------------------------------------------\u001b[0m",
      "\u001b[1;31mZeroDivisionError\u001b[0m                         Traceback (most recent call last)",
      "Input \u001b[1;32mIn [3]\u001b[0m, in \u001b[0;36m<cell line: 1>\u001b[1;34m()\u001b[0m\n\u001b[1;32m----> 1\u001b[0m \u001b[43ma\u001b[49m\u001b[38;5;241;43m/\u001b[39;49m\u001b[38;5;241;43m0\u001b[39;49m\n\u001b[0;32m      2\u001b[0m \u001b[38;5;28mprint\u001b[39m(\u001b[38;5;124m\"\u001b[39m\u001b[38;5;124mHello\u001b[39m\u001b[38;5;124m\"\u001b[39m)\n",
      "\u001b[1;31mZeroDivisionError\u001b[0m: division by zero"
     ]
    }
   ],
   "source": [
    "a/0\n",
    "print(\"Hello\")"
   ]
  },
  {
   "cell_type": "code",
   "execution_count": 4,
   "id": "6ba995c3",
   "metadata": {},
   "outputs": [],
   "source": [
    "#Anything written after Error part was not executed"
   ]
  },
  {
   "cell_type": "code",
   "execution_count": 5,
   "id": "02fa7a5e",
   "metadata": {},
   "outputs": [],
   "source": [
    "# We have to keep in mind about these exceptions while writing code"
   ]
  },
  {
   "cell_type": "code",
   "execution_count": 6,
   "id": "8ccf06a7",
   "metadata": {},
   "outputs": [],
   "source": [
    "# to avoid the situation of error,we can use try keyword and write whatever code we want to write"
   ]
  },
  {
   "cell_type": "code",
   "execution_count": 17,
   "id": "ca24d15f",
   "metadata": {},
   "outputs": [],
   "source": [
    "# try will not be useful whe you have compile time error like syntax error in your code. \n",
    "# it will be useful when you have run time error like ZeroDivisionError, value error etc."
   ]
  },
  {
   "cell_type": "code",
   "execution_count": 9,
   "id": "3418c146",
   "metadata": {},
   "outputs": [
    {
     "ename": "FileNotFoundError",
     "evalue": "[Errno 2] No such file or directory: 'test.txt'",
     "output_type": "error",
     "traceback": [
      "\u001b[1;31m---------------------------------------------------------------------------\u001b[0m",
      "\u001b[1;31mFileNotFoundError\u001b[0m                         Traceback (most recent call last)",
      "Input \u001b[1;32mIn [9]\u001b[0m, in \u001b[0;36m<cell line: 1>\u001b[1;34m()\u001b[0m\n\u001b[1;32m----> 1\u001b[0m f \u001b[38;5;241m=\u001b[39m \u001b[38;5;28;43mopen\u001b[39;49m\u001b[43m(\u001b[49m\u001b[38;5;124;43m\"\u001b[39;49m\u001b[38;5;124;43mtest.txt\u001b[39;49m\u001b[38;5;124;43m\"\u001b[39;49m\u001b[43m,\u001b[49m\u001b[43m \u001b[49m\u001b[38;5;124;43m\"\u001b[39;49m\u001b[38;5;124;43mr\u001b[39;49m\u001b[38;5;124;43m\"\u001b[39;49m\u001b[43m)\u001b[49m\n\u001b[0;32m      2\u001b[0m f\u001b[38;5;241m.\u001b[39mwrite(\u001b[38;5;124m\"\u001b[39m\u001b[38;5;124mabhishk mohsn \u001b[39m\u001b[38;5;124m\"\u001b[39m)\n",
      "\u001b[1;31mFileNotFoundError\u001b[0m: [Errno 2] No such file or directory: 'test.txt'"
     ]
    }
   ],
   "source": [
    "f = open(\"test.txt\", \"r\")\n",
    "f.write(\"abhishk mohsn \")"
   ]
  },
  {
   "cell_type": "code",
   "execution_count": 10,
   "id": "94569eb9",
   "metadata": {},
   "outputs": [],
   "source": [
    "# We have opened file in read mode and doing wrirte operations. So invalid statement. "
   ]
  },
  {
   "cell_type": "code",
   "execution_count": 11,
   "id": "19eacb02",
   "metadata": {},
   "outputs": [
    {
     "ename": "FileNotFoundError",
     "evalue": "[Errno 2] No such file or directory: 'test.txt'",
     "output_type": "error",
     "traceback": [
      "\u001b[1;31m---------------------------------------------------------------------------\u001b[0m",
      "\u001b[1;31mFileNotFoundError\u001b[0m                         Traceback (most recent call last)",
      "Input \u001b[1;32mIn [11]\u001b[0m, in \u001b[0;36m<cell line: 1>\u001b[1;34m()\u001b[0m\n\u001b[1;32m----> 1\u001b[0m f \u001b[38;5;241m=\u001b[39m \u001b[38;5;28;43mopen\u001b[39;49m\u001b[43m(\u001b[49m\u001b[38;5;124;43m\"\u001b[39;49m\u001b[38;5;124;43mtest.txt\u001b[39;49m\u001b[38;5;124;43m\"\u001b[39;49m\u001b[43m,\u001b[49m\u001b[43m \u001b[49m\u001b[38;5;124;43m\"\u001b[39;49m\u001b[38;5;124;43mr\u001b[39;49m\u001b[38;5;124;43m\"\u001b[39;49m\u001b[43m)\u001b[49m\n\u001b[0;32m      2\u001b[0m f\u001b[38;5;241m.\u001b[39mwrite(\u001b[38;5;124m\"\u001b[39m\u001b[38;5;124mabhishk mohsn \u001b[39m\u001b[38;5;124m\"\u001b[39m)\n\u001b[0;32m      3\u001b[0m \u001b[38;5;28mprint\u001b[39m(\u001b[38;5;124m\"\u001b[39m\u001b[38;5;124mI write cide \u001b[39m\u001b[38;5;124m\"\u001b[39m)\n",
      "\u001b[1;31mFileNotFoundError\u001b[0m: [Errno 2] No such file or directory: 'test.txt'"
     ]
    }
   ],
   "source": [
    "f = open(\"test.txt\", \"r\")\n",
    "f.write(\"abhishk mohsn \")\n",
    "print(\"I write cide \")"
   ]
  },
  {
   "cell_type": "code",
   "execution_count": 12,
   "id": "0cbe4dc5",
   "metadata": {},
   "outputs": [],
   "source": [
    "# last line not executed."
   ]
  },
  {
   "cell_type": "code",
   "execution_count": 13,
   "id": "3db0b4fd",
   "metadata": {},
   "outputs": [
    {
     "name": "stdout",
     "output_type": "stream",
     "text": [
      "There is an error\n",
      "I write code \n"
     ]
    }
   ],
   "source": [
    "try:\n",
    "    f = open(\"test.txt\", \"r\")\n",
    "    f.write(\"abhishek mohan \")\n",
    "except:\n",
    "    print(\"There is an error\")\n",
    "print(\"I write code \")"
   ]
  },
  {
   "cell_type": "code",
   "execution_count": 14,
   "id": "4f52c34d",
   "metadata": {},
   "outputs": [],
   "source": [
    "# So even if you have made error, the last line is executed"
   ]
  },
  {
   "cell_type": "code",
   "execution_count": 15,
   "id": "cdd4baad",
   "metadata": {},
   "outputs": [
    {
     "ename": "SyntaxError",
     "evalue": "unexpected EOF while parsing (2371490567.py, line 3)",
     "output_type": "error",
     "traceback": [
      "\u001b[1;36m  Input \u001b[1;32mIn [15]\u001b[1;36m\u001b[0m\n\u001b[1;33m    f.write(\"abhishek mohan \")\u001b[0m\n\u001b[1;37m                              ^\u001b[0m\n\u001b[1;31mSyntaxError\u001b[0m\u001b[1;31m:\u001b[0m unexpected EOF while parsing\n"
     ]
    }
   ],
   "source": [
    "try:\n",
    "    f = open(\"test.txt\", \"r\")\n",
    "    f.write(\"abhishek mohan \")"
   ]
  },
  {
   "cell_type": "code",
   "execution_count": 16,
   "id": "e496d53f",
   "metadata": {},
   "outputs": [],
   "source": [
    "#ALways write except block as well if you have written try block beacuse incase of error except block will be executed"
   ]
  },
  {
   "cell_type": "code",
   "execution_count": 25,
   "id": "483adba5",
   "metadata": {},
   "outputs": [
    {
     "ename": "SyntaxError",
     "evalue": "invalid syntax (3312476646.py, line 3)",
     "output_type": "error",
     "traceback": [
      "\u001b[1;36m  Input \u001b[1;32mIn [25]\u001b[1;36m\u001b[0m\n\u001b[1;33m    print(l[])\u001b[0m\n\u001b[1;37m            ^\u001b[0m\n\u001b[1;31mSyntaxError\u001b[0m\u001b[1;31m:\u001b[0m invalid syntax\n"
     ]
    }
   ],
   "source": [
    "l= [1,2,3,4,5,6]\n",
    "for i in range(len(l)):\n",
    "    print(l[])"
   ]
  },
  {
   "cell_type": "code",
   "execution_count": 26,
   "id": "912d112e",
   "metadata": {},
   "outputs": [
    {
     "ename": "SyntaxError",
     "evalue": "invalid syntax (1096814994.py, line 4)",
     "output_type": "error",
     "traceback": [
      "\u001b[1;36m  Input \u001b[1;32mIn [26]\u001b[1;36m\u001b[0m\n\u001b[1;33m    print(l[])\u001b[0m\n\u001b[1;37m            ^\u001b[0m\n\u001b[1;31mSyntaxError\u001b[0m\u001b[1;31m:\u001b[0m invalid syntax\n"
     ]
    }
   ],
   "source": [
    "try:\n",
    "    l= [1,2,3,4,5,6]\n",
    "    for i in range(len(l)):\n",
    "        print(l[])\n",
    "except:\n",
    "    print(\"Mistake\")"
   ]
  },
  {
   "cell_type": "code",
   "execution_count": 27,
   "id": "5ac7339e",
   "metadata": {},
   "outputs": [],
   "source": [
    "# Since it was a compile time error(Syntax error), hence try will not do its job here."
   ]
  },
  {
   "cell_type": "code",
   "execution_count": 28,
   "id": "bdff8fec",
   "metadata": {},
   "outputs": [
    {
     "name": "stdout",
     "output_type": "stream",
     "text": [
      "0\n"
     ]
    },
    {
     "ename": "ZeroDivisionError",
     "evalue": "division by zero",
     "output_type": "error",
     "traceback": [
      "\u001b[1;31m---------------------------------------------------------------------------\u001b[0m",
      "\u001b[1;31mZeroDivisionError\u001b[0m                         Traceback (most recent call last)",
      "Input \u001b[1;32mIn [28]\u001b[0m, in \u001b[0;36m<cell line: 3>\u001b[1;34m()\u001b[0m\n\u001b[0;32m      1\u001b[0m a\u001b[38;5;241m=\u001b[39m\u001b[38;5;241m5\u001b[39m\n\u001b[0;32m      2\u001b[0m b\u001b[38;5;241m=\u001b[39m \u001b[38;5;28mint\u001b[39m(\u001b[38;5;28minput\u001b[39m())\n\u001b[1;32m----> 3\u001b[0m \u001b[43ma\u001b[49m\u001b[38;5;241;43m/\u001b[39;49m\u001b[43mb\u001b[49m\n",
      "\u001b[1;31mZeroDivisionError\u001b[0m: division by zero"
     ]
    }
   ],
   "source": [
    "a=5\n",
    "b= int(input())\n",
    "a/b"
   ]
  },
  {
   "cell_type": "code",
   "execution_count": 29,
   "id": "8ddc154c",
   "metadata": {},
   "outputs": [
    {
     "name": "stdout",
     "output_type": "stream",
     "text": [
      "0\n",
      "Mistake\n"
     ]
    }
   ],
   "source": [
    "try:\n",
    "    a=5\n",
    "    b= int(input())\n",
    "    a/b\n",
    "except:\n",
    "    print(\"Mistake\")"
   ]
  },
  {
   "cell_type": "code",
   "execution_count": 30,
   "id": "61000d4f",
   "metadata": {},
   "outputs": [],
   "source": [
    "#Since it was  a runtime error, so try and exceptworkded here."
   ]
  },
  {
   "cell_type": "code",
   "execution_count": 31,
   "id": "b2a585e3",
   "metadata": {},
   "outputs": [
    {
     "name": "stdout",
     "output_type": "stream",
     "text": [
      "1\n",
      "2\n",
      "3\n",
      "4\n",
      "5\n"
     ]
    },
    {
     "ename": "IndexError",
     "evalue": "list index out of range",
     "output_type": "error",
     "traceback": [
      "\u001b[1;31m---------------------------------------------------------------------------\u001b[0m",
      "\u001b[1;31mIndexError\u001b[0m                                Traceback (most recent call last)",
      "Input \u001b[1;32mIn [31]\u001b[0m, in \u001b[0;36m<cell line: 2>\u001b[1;34m()\u001b[0m\n\u001b[0;32m      1\u001b[0m l \u001b[38;5;241m=\u001b[39m[\u001b[38;5;241m1\u001b[39m,\u001b[38;5;241m2\u001b[39m,\u001b[38;5;241m3\u001b[39m,\u001b[38;5;241m4\u001b[39m,\u001b[38;5;241m5\u001b[39m]\n\u001b[0;32m      2\u001b[0m \u001b[38;5;28;01mfor\u001b[39;00m i \u001b[38;5;129;01min\u001b[39;00m \u001b[38;5;28mrange\u001b[39m(\u001b[38;5;28mlen\u001b[39m(l)\u001b[38;5;241m+\u001b[39m\u001b[38;5;241m2\u001b[39m):\n\u001b[1;32m----> 3\u001b[0m     \u001b[38;5;28mprint\u001b[39m(\u001b[43ml\u001b[49m\u001b[43m[\u001b[49m\u001b[43mi\u001b[49m\u001b[43m]\u001b[49m)\n",
      "\u001b[1;31mIndexError\u001b[0m: list index out of range"
     ]
    }
   ],
   "source": [
    "l =[1,2,3,4,5]\n",
    "for i in range(len(l)+2):\n",
    "    print(l[i])"
   ]
  },
  {
   "cell_type": "code",
   "execution_count": 34,
   "id": "2c1c9162",
   "metadata": {},
   "outputs": [
    {
     "name": "stdout",
     "output_type": "stream",
     "text": [
      "1\n",
      "2\n",
      "3\n",
      "4\n",
      "5\n",
      "This is my code \n"
     ]
    }
   ],
   "source": [
    "try:\n",
    "    l =[1,2,3,4,5]\n",
    "    for i in range(len(l)+2):\n",
    "        print(l[i])\n",
    "except:\n",
    "    print(\"This is my code \")"
   ]
  },
  {
   "cell_type": "code",
   "execution_count": 35,
   "id": "4e3ce18c",
   "metadata": {},
   "outputs": [],
   "source": [
    "# Here it has handled exceptions. This is how exceptiion handling works"
   ]
  },
  {
   "cell_type": "code",
   "execution_count": 36,
   "id": "1a97c68f",
   "metadata": {},
   "outputs": [],
   "source": [
    "# but how to know what kind of error has occured in your code? To know this:"
   ]
  },
  {
   "cell_type": "code",
   "execution_count": 38,
   "id": "aa98aa61",
   "metadata": {},
   "outputs": [
    {
     "name": "stdout",
     "output_type": "stream",
     "text": [
      "1\n",
      "2\n",
      "3\n",
      "4\n",
      "5\n",
      "This is my code    list index out of range\n"
     ]
    }
   ],
   "source": [
    "try:\n",
    "    l =[1,2,3,4,5]\n",
    "    for i in range(len(l)+2):\n",
    "        print(l[i])\n",
    "except Exception as e:             # Use this, here e is aliases for Exception, which is a class.\n",
    "    print(\"This is my code   \", e)"
   ]
  },
  {
   "cell_type": "code",
   "execution_count": 40,
   "id": "c46c9298",
   "metadata": {},
   "outputs": [
    {
     "name": "stdout",
     "output_type": "stream",
     "text": [
      "5\n",
      "abhi\n",
      "Error:  invalid literal for int() with base 10: 'abhi'\n",
      "this is my code \n"
     ]
    }
   ],
   "source": [
    "try:\n",
    "    a = int(input())\n",
    "    b = int(input())\n",
    "except Exception as e:\n",
    "    print(\"Error: \",e)\n",
    "print(\"this is my code \")    \n",
    "    "
   ]
  },
  {
   "cell_type": "code",
   "execution_count": 42,
   "id": "1444eb75",
   "metadata": {},
   "outputs": [],
   "source": [
    "# Despite having error in my code in try block, the entire code is not affected."
   ]
  },
  {
   "cell_type": "code",
   "execution_count": 1,
   "id": "4f378f9b",
   "metadata": {},
   "outputs": [],
   "source": [
    "# You can write try and except block as many times as you want."
   ]
  },
  {
   "cell_type": "code",
   "execution_count": 2,
   "id": "581986b3",
   "metadata": {},
   "outputs": [
    {
     "name": "stdout",
     "output_type": "stream",
     "text": [
      "abhi\n",
      "invalid literal for int() with base 10: 'abhi'\n"
     ]
    }
   ],
   "source": [
    "try:\n",
    "    d ={\"key1\": \"abhi\", \"Key2\": [1,2,3,4,5],\"key3\":(4,5,6)}\n",
    "    d[\"key4\"] = int(input())\n",
    "except Exception as e:\n",
    "    print(e)\n",
    "    "
   ]
  },
  {
   "cell_type": "code",
   "execution_count": 3,
   "id": "e8a271dd",
   "metadata": {},
   "outputs": [
    {
     "name": "stdout",
     "output_type": "stream",
     "text": [
      "5\n"
     ]
    }
   ],
   "source": [
    "try:\n",
    "    d ={\"key1\": \"abhi\", \"Key2\": [1,2,3,4,5],\"key3\":(4,5,6)}\n",
    "    d[\"key4\"] = int(input())\n",
    "except Exception as e:\n",
    "    print(e)\n",
    "    "
   ]
  },
  {
   "cell_type": "code",
   "execution_count": 4,
   "id": "2fb8d022",
   "metadata": {},
   "outputs": [
    {
     "data": {
      "text/plain": [
       "{'key1': 'abhi', 'Key2': [1, 2, 3, 4, 5], 'key3': (4, 5, 6), 'key4': 5}"
      ]
     },
     "execution_count": 4,
     "metadata": {},
     "output_type": "execute_result"
    }
   ],
   "source": [
    "d"
   ]
  },
  {
   "cell_type": "code",
   "execution_count": 6,
   "id": "7945415b",
   "metadata": {},
   "outputs": [
    {
     "name": "stdout",
     "output_type": "stream",
     "text": [
      "abhis\n"
     ]
    },
    {
     "ename": "ValueError",
     "evalue": "invalid literal for int() with base 10: 'abhis'",
     "output_type": "error",
     "traceback": [
      "\u001b[1;31m---------------------------------------------------------------------------\u001b[0m",
      "\u001b[1;31mValueError\u001b[0m                                Traceback (most recent call last)",
      "Input \u001b[1;32mIn [6]\u001b[0m, in \u001b[0;36m<cell line: 3>\u001b[1;34m()\u001b[0m\n\u001b[0;32m      1\u001b[0m \u001b[38;5;66;03m#try:\u001b[39;00m\n\u001b[0;32m      2\u001b[0m d \u001b[38;5;241m=\u001b[39m{\u001b[38;5;124m\"\u001b[39m\u001b[38;5;124mkey1\u001b[39m\u001b[38;5;124m\"\u001b[39m: \u001b[38;5;124m\"\u001b[39m\u001b[38;5;124mabhi\u001b[39m\u001b[38;5;124m\"\u001b[39m, \u001b[38;5;124m\"\u001b[39m\u001b[38;5;124mKey2\u001b[39m\u001b[38;5;124m\"\u001b[39m: [\u001b[38;5;241m1\u001b[39m,\u001b[38;5;241m2\u001b[39m,\u001b[38;5;241m3\u001b[39m,\u001b[38;5;241m4\u001b[39m,\u001b[38;5;241m5\u001b[39m],\u001b[38;5;124m\"\u001b[39m\u001b[38;5;124mkey3\u001b[39m\u001b[38;5;124m\"\u001b[39m:(\u001b[38;5;241m4\u001b[39m,\u001b[38;5;241m5\u001b[39m,\u001b[38;5;241m6\u001b[39m)}\n\u001b[1;32m----> 3\u001b[0m d[\u001b[38;5;124m\"\u001b[39m\u001b[38;5;124mkey4\u001b[39m\u001b[38;5;124m\"\u001b[39m] \u001b[38;5;241m=\u001b[39m \u001b[38;5;28;43mint\u001b[39;49m\u001b[43m(\u001b[49m\u001b[38;5;28;43minput\u001b[39;49m\u001b[43m(\u001b[49m\u001b[43m)\u001b[49m\u001b[43m)\u001b[49m\n",
      "\u001b[1;31mValueError\u001b[0m: invalid literal for int() with base 10: 'abhis'"
     ]
    }
   ],
   "source": [
    "#try:\n",
    "d ={\"key1\": \"abhi\", \"Key2\": [1,2,3,4,5],\"key3\":(4,5,6)}\n",
    "d[\"key4\"] = int(input())\n",
    "#except Exception as e:\n",
    "    #print(e)\n",
    "    "
   ]
  },
  {
   "cell_type": "code",
   "execution_count": 10,
   "id": "1122aae6",
   "metadata": {},
   "outputs": [
    {
     "name": "stdout",
     "output_type": "stream",
     "text": [
      "abhis\n",
      "invalid literal for int() with base 10: 'abhis'\n"
     ]
    }
   ],
   "source": [
    "try:\n",
    "    d ={\"key1\": \"abhi\", \"Key2\": [1,2,3,4,5],\"key3\":(4,5,6)}\n",
    "    d[\"key4\"] = int(input())\n",
    "except ValueError as e: # This will handle only value error\n",
    "    print(e)\n",
    "    "
   ]
  },
  {
   "cell_type": "code",
   "execution_count": 8,
   "id": "a713a59a",
   "metadata": {},
   "outputs": [],
   "source": [
    "# Exception is a super class which handles all the errors"
   ]
  },
  {
   "cell_type": "code",
   "execution_count": 9,
   "id": "53a22b92",
   "metadata": {},
   "outputs": [],
   "source": [
    "# Since we do not know what kind of error will be there once program runs,\n",
    "# hence it is better to use Exception "
   ]
  },
  {
   "cell_type": "code",
   "execution_count": 11,
   "id": "c083cbf5",
   "metadata": {},
   "outputs": [
    {
     "name": "stdout",
     "output_type": "stream",
     "text": [
      "56\n"
     ]
    },
    {
     "ename": "FileNotFoundError",
     "evalue": "[Errno 2] No such file or directory: 'test'",
     "output_type": "error",
     "traceback": [
      "\u001b[1;31m---------------------------------------------------------------------------\u001b[0m",
      "\u001b[1;31mFileNotFoundError\u001b[0m                         Traceback (most recent call last)",
      "Input \u001b[1;32mIn [11]\u001b[0m, in \u001b[0;36m<cell line: 1>\u001b[1;34m()\u001b[0m\n\u001b[0;32m      2\u001b[0m     d \u001b[38;5;241m=\u001b[39m{\u001b[38;5;124m\"\u001b[39m\u001b[38;5;124mkey1\u001b[39m\u001b[38;5;124m\"\u001b[39m: \u001b[38;5;124m\"\u001b[39m\u001b[38;5;124mabhi\u001b[39m\u001b[38;5;124m\"\u001b[39m, \u001b[38;5;124m\"\u001b[39m\u001b[38;5;124mKey2\u001b[39m\u001b[38;5;124m\"\u001b[39m: [\u001b[38;5;241m1\u001b[39m,\u001b[38;5;241m2\u001b[39m,\u001b[38;5;241m3\u001b[39m,\u001b[38;5;241m4\u001b[39m,\u001b[38;5;241m5\u001b[39m],\u001b[38;5;124m\"\u001b[39m\u001b[38;5;124mkey3\u001b[39m\u001b[38;5;124m\"\u001b[39m:(\u001b[38;5;241m4\u001b[39m,\u001b[38;5;241m5\u001b[39m,\u001b[38;5;241m6\u001b[39m)}\n\u001b[0;32m      3\u001b[0m     d[\u001b[38;5;124m\"\u001b[39m\u001b[38;5;124mkey4\u001b[39m\u001b[38;5;124m\"\u001b[39m] \u001b[38;5;241m=\u001b[39m \u001b[38;5;28mint\u001b[39m(\u001b[38;5;28minput\u001b[39m())\n\u001b[1;32m----> 4\u001b[0m     f \u001b[38;5;241m=\u001b[39m \u001b[38;5;28;43mopen\u001b[39;49m\u001b[43m(\u001b[49m\u001b[38;5;124;43m\"\u001b[39;49m\u001b[38;5;124;43mtest\u001b[39;49m\u001b[38;5;124;43m\"\u001b[39;49m\u001b[43m,\u001b[49m\u001b[43m \u001b[49m\u001b[38;5;124;43m\"\u001b[39;49m\u001b[38;5;124;43mr\u001b[39;49m\u001b[38;5;124;43m\"\u001b[39;49m\u001b[43m)\u001b[49m\n\u001b[0;32m      5\u001b[0m \u001b[38;5;28;01mexcept\u001b[39;00m \u001b[38;5;167;01mValueError\u001b[39;00m \u001b[38;5;28;01mas\u001b[39;00m e:\n\u001b[0;32m      6\u001b[0m     \u001b[38;5;28mprint\u001b[39m(e)\n",
      "\u001b[1;31mFileNotFoundError\u001b[0m: [Errno 2] No such file or directory: 'test'"
     ]
    }
   ],
   "source": [
    "try:\n",
    "    d ={\"key1\": \"abhi\", \"Key2\": [1,2,3,4,5],\"key3\":(4,5,6)}\n",
    "    d[\"key4\"] = int(input())\n",
    "    f = open(\"test\", \"r\")\n",
    "except ValueError as e:\n",
    "    print(e)\n",
    "    "
   ]
  },
  {
   "cell_type": "code",
   "execution_count": 12,
   "id": "4da8086d",
   "metadata": {},
   "outputs": [
    {
     "name": "stdout",
     "output_type": "stream",
     "text": [
      "56\n",
      "[Errno 2] No such file or directory: 'test'\n"
     ]
    }
   ],
   "source": [
    "try:\n",
    "    d ={\"key1\": \"abhi\", \"Key2\": [1,2,3,4,5],\"key3\":(4,5,6)}\n",
    "    d[\"key4\"] = int(input())\n",
    "    f = open(\"test\",\"r\")\n",
    "except Exception as e:\n",
    "    print(e)\n",
    "    "
   ]
  },
  {
   "cell_type": "code",
   "execution_count": 13,
   "id": "679515a1",
   "metadata": {},
   "outputs": [],
   "source": [
    "# Here FileNotFoundError is handled by Exception class"
   ]
  },
  {
   "cell_type": "code",
   "execution_count": 15,
   "id": "a2afd957",
   "metadata": {},
   "outputs": [
    {
     "name": "stdout",
     "output_type": "stream",
     "text": [
      "456\n",
      "[Errno 2] No such file or directory: 'test'\n"
     ]
    }
   ],
   "source": [
    "try:\n",
    "    d ={\"key1\": \"abhi\", \"Key2\": [1,2,3,4,5],\"key3\":(4,5,6)}\n",
    "    d[\"key4\"] = int(input())\n",
    "    f = open(\"test\",\"r\")\n",
    "except ValueError as e:\n",
    "    print(e)\n",
    "except FileNotFoundError as abhi:\n",
    "    print(abhi)\n",
    "    "
   ]
  },
  {
   "cell_type": "code",
   "execution_count": 17,
   "id": "58d298b7",
   "metadata": {},
   "outputs": [
    {
     "name": "stdout",
     "output_type": "stream",
     "text": [
      "abhi\n",
      "Value Erro invalid literal for int() with base 10: 'abhi'\n"
     ]
    }
   ],
   "source": [
    "try:\n",
    "    d ={\"key1\": \"abhi\", \"Key2\": [1,2,3,4,5],\"key3\":(4,5,6)}\n",
    "    d[\"key4\"] = int(input())\n",
    "    f = open(\"test\",\"r\")\n",
    "except ValueError as e:\n",
    "    print(\"Value Erro\", e)\n",
    "except FileNotFoundError as abhi:\n",
    "    print(\"File not found error\", abhi)\n",
    "except Exception as ee:\n",
    "    print(\"this is my super class\", ee)"
   ]
  },
  {
   "cell_type": "code",
   "execution_count": 18,
   "id": "7c394766",
   "metadata": {},
   "outputs": [
    {
     "name": "stdout",
     "output_type": "stream",
     "text": [
      "123\n",
      "File not found error [Errno 2] No such file or directory: 'test'\n"
     ]
    }
   ],
   "source": [
    "try:\n",
    "    d ={\"key1\": \"abhi\", \"Key2\": [1,2,3,4,5],\"key3\":(4,5,6)}\n",
    "    d[\"key4\"] = int(input())\n",
    "    f = open(\"test\",\"r\")\n",
    "except ValueError as e:\n",
    "    print(\"Value Erro\", e)\n",
    "except FileNotFoundError as abhi:\n",
    "    print(\"File not found error\", abhi)\n",
    "except Exception as ee:\n",
    "    print(\"this is my super class\", ee)"
   ]
  },
  {
   "cell_type": "code",
   "execution_count": 19,
   "id": "7a1f3464",
   "metadata": {},
   "outputs": [
    {
     "name": "stdout",
     "output_type": "stream",
     "text": [
      "abhi\n",
      "this is my super class invalid literal for int() with base 10: 'abhi'\n"
     ]
    }
   ],
   "source": [
    "try:\n",
    "    d ={\"key1\": \"abhi\", \"Key2\": [1,2,3,4,5],\"key3\":(4,5,6)}\n",
    "    d[\"key4\"] = int(input())\n",
    "    f = open(\"test\",\"r\")\n",
    "except Exception as ee:\n",
    "    print(\"this is my super class\", ee)    \n",
    "except ValueError as e:\n",
    "    print(\"Value Erro\", e)\n",
    "except FileNotFoundError as abhi:\n",
    "    print(\"File not found error\", abhi)\n"
   ]
  },
  {
   "cell_type": "code",
   "execution_count": 21,
   "id": "71904cfe",
   "metadata": {},
   "outputs": [
    {
     "name": "stdout",
     "output_type": "stream",
     "text": [
      "789\n",
      "this is my super class [Errno 2] No such file or directory: 'test'\n"
     ]
    }
   ],
   "source": [
    "try:\n",
    "    d ={\"key1\": \"abhi\", \"Key2\": [1,2,3,4,5],\"key3\":(4,5,6)}\n",
    "    d[\"key4\"] = int(input())\n",
    "    f = open(\"test\",\"r\")\n",
    "except Exception as ee:\n",
    "    print(\"this is my super class\", ee)    \n",
    "except ValueError as e:\n",
    "    print(\"Value Erro\", e)\n",
    "except FileNotFoundError as abhi:\n",
    "    print(\"File not found error\", abhi)    "
   ]
  },
  {
   "cell_type": "code",
   "execution_count": 22,
   "id": "2f7982b2",
   "metadata": {},
   "outputs": [],
   "source": [
    "# When you mention the superclass Exception before, then it will be executed incase of error,\n",
    "# but when Exception is mentioned in last then ValueError or FileNotfound Error will be executed first"
   ]
  },
  {
   "cell_type": "markdown",
   "id": "df4b8f7d",
   "metadata": {},
   "source": [
    "### Try-Except-Else"
   ]
  },
  {
   "cell_type": "code",
   "execution_count": 23,
   "id": "9034b661",
   "metadata": {},
   "outputs": [
    {
     "name": "stdout",
     "output_type": "stream",
     "text": [
      "10\n",
      "this will be executed when try block will be executed successfuly\n",
      "2.0\n"
     ]
    }
   ],
   "source": [
    "try:\n",
    "    a=20\n",
    "    b=int(input())\n",
    "    a/b\n",
    "except Exception as e:\n",
    "    print(\"There is an error \",e)\n",
    "else:\n",
    "    print(\"this will be executed when try block will be executed successfuly\")\n",
    "    print(a/b)"
   ]
  },
  {
   "cell_type": "code",
   "execution_count": 24,
   "id": "20d41c50",
   "metadata": {},
   "outputs": [
    {
     "name": "stdout",
     "output_type": "stream",
     "text": [
      "abhi\n",
      "There is an error  invalid literal for int() with base 10: 'abhi'\n"
     ]
    }
   ],
   "source": [
    "try:\n",
    "    a=20\n",
    "    b=int(input())\n",
    "    a/b\n",
    "except Exception as e:\n",
    "    print(\"There is an error \",e)\n",
    "else:\n",
    "    print(\"this will be executed when try block will be executed successfuly\")\n",
    "    print(a/b)"
   ]
  },
  {
   "cell_type": "code",
   "execution_count": 25,
   "id": "02748e06",
   "metadata": {},
   "outputs": [],
   "source": [
    "# else block will be executed only when try block will be executed\n",
    "#successfully. If there is error in try block then except block will \n",
    "# be executed and else block will not be executed."
   ]
  },
  {
   "cell_type": "markdown",
   "id": "852b1fd9",
   "metadata": {},
   "source": [
    "### Try-except-finally"
   ]
  },
  {
   "cell_type": "code",
   "execution_count": 26,
   "id": "49cb3477",
   "metadata": {},
   "outputs": [],
   "source": [
    "# finally block will be executed every time even if try has error or not"
   ]
  },
  {
   "cell_type": "code",
   "execution_count": 27,
   "id": "76418361",
   "metadata": {},
   "outputs": [
    {
     "name": "stdout",
     "output_type": "stream",
     "text": [
      "10\n",
      "this will be executed when try block will be executed successfuly\n",
      "2.0\n",
      "This will be executed evry time\n"
     ]
    }
   ],
   "source": [
    "try:\n",
    "    a=20\n",
    "    b=int(input())\n",
    "    a/b\n",
    "except Exception as e:\n",
    "    print(\"There is an error \",e)\n",
    "else:\n",
    "    print(\"this will be executed when try block will be executed successfuly\")\n",
    "    print(a/b)\n",
    "finally:\n",
    "    print(\"This will be executed evry time\")"
   ]
  },
  {
   "cell_type": "code",
   "execution_count": 28,
   "id": "b95b9c99",
   "metadata": {},
   "outputs": [
    {
     "name": "stdout",
     "output_type": "stream",
     "text": [
      "abhis\n",
      "There is an error  invalid literal for int() with base 10: 'abhis'\n",
      "This will be executed evry time\n"
     ]
    }
   ],
   "source": [
    "try:\n",
    "    a=20\n",
    "    b=int(input())\n",
    "    a/b\n",
    "except Exception as e:\n",
    "    print(\"There is an error \",e)\n",
    "else:\n",
    "    print(\"this will be executed when try block will be executed successfuly\")\n",
    "    print(a/b)\n",
    "finally:\n",
    "    print(\"This will be executed evry time\")"
   ]
  },
  {
   "cell_type": "code",
   "execution_count": 29,
   "id": "ad2a2f95",
   "metadata": {},
   "outputs": [],
   "source": [
    "def askint():\n",
    "    try:\n",
    "        a = int(input())\n",
    "        return a\n",
    "    except Exception as e:\n",
    "        print(\"this is my input error\", e)\n",
    "        "
   ]
  },
  {
   "cell_type": "code",
   "execution_count": 30,
   "id": "bb14fab9",
   "metadata": {},
   "outputs": [
    {
     "name": "stdout",
     "output_type": "stream",
     "text": [
      "45\n"
     ]
    },
    {
     "data": {
      "text/plain": [
       "45"
      ]
     },
     "execution_count": 30,
     "metadata": {},
     "output_type": "execute_result"
    }
   ],
   "source": [
    "askint()"
   ]
  },
  {
   "cell_type": "code",
   "execution_count": 31,
   "id": "1cab5f66",
   "metadata": {},
   "outputs": [
    {
     "name": "stdout",
     "output_type": "stream",
     "text": [
      "abhishekn\n",
      "this is my input error invalid literal for int() with base 10: 'abhishekn'\n"
     ]
    }
   ],
   "source": [
    "askint()"
   ]
  },
  {
   "cell_type": "code",
   "execution_count": 32,
   "id": "c87b3dee",
   "metadata": {},
   "outputs": [],
   "source": [
    "#When we enter string the function handles the error but Write a function which  will keep on asking unless you enter an integer"
   ]
  },
  {
   "cell_type": "code",
   "execution_count": 36,
   "id": "27300c93",
   "metadata": {},
   "outputs": [
    {
     "name": "stdout",
     "output_type": "stream",
     "text": [
      "Enter integerabhi\n",
      "integer not entered, error invalid literal for int() with base 10: 'abhi'\n",
      "Enter integerabishk\n",
      "integer not entered, error invalid literal for int() with base 10: 'abishk'\n",
      "Enter integerhello all\n",
      "integer not entered, error invalid literal for int() with base 10: 'hello all'\n",
      "Enter integer10023\n"
     ]
    },
    {
     "data": {
      "text/plain": [
       "'integer is entered'"
      ]
     },
     "execution_count": 36,
     "metadata": {},
     "output_type": "execute_result"
    }
   ],
   "source": [
    "def fun():\n",
    "    flag = True\n",
    "    while flag: #This is checking whether flag is True or not\n",
    "        try:\n",
    "            a = int(input(\"Enter integer\"))\n",
    "            if type(a) == int:\n",
    "                return \"integer is entered\"\n",
    "                flag = False    #If this runs, then come out of while loop\n",
    "\n",
    "        except Exception as e:\n",
    "            print(\"integer not entered, error\", e)\n",
    "fun()        "
   ]
  },
  {
   "cell_type": "code",
   "execution_count": 37,
   "id": "3c6613ae",
   "metadata": {},
   "outputs": [],
   "source": [
    "# As integer is entered, flag = False, hence while loop will be not executed"
   ]
  },
  {
   "cell_type": "code",
   "execution_count": 38,
   "id": "5f5f4744",
   "metadata": {},
   "outputs": [],
   "source": [
    "#Method-02"
   ]
  },
  {
   "cell_type": "code",
   "execution_count": 39,
   "id": "af567c81",
   "metadata": {},
   "outputs": [],
   "source": [
    "def func():\n",
    "    while True: #Infinite loop\n",
    "        try:\n",
    "            x = int(input())\n",
    "            break\n",
    "        except Exception as e:\n",
    "            print(\"Enter integer only\", e)"
   ]
  },
  {
   "cell_type": "code",
   "execution_count": 41,
   "id": "418a25b7",
   "metadata": {},
   "outputs": [
    {
     "name": "stdout",
     "output_type": "stream",
     "text": [
      "hello all\n",
      "Enter integer only invalid literal for int() with base 10: 'hello all'\n",
      "abshe\n",
      "Enter integer only invalid literal for int() with base 10: 'abshe'\n",
      "good morming all\n",
      "Enter integer only invalid literal for int() with base 10: 'good morming all'\n",
      "1235\n"
     ]
    }
   ],
   "source": [
    "func()"
   ]
  },
  {
   "cell_type": "code",
   "execution_count": 42,
   "id": "c59834d3",
   "metadata": {},
   "outputs": [],
   "source": [
    "def test(a):\n",
    "    if a<0:\n",
    "        raise Exception(\"You have entered negative value\",a)\n",
    "    return a    "
   ]
  },
  {
   "cell_type": "code",
   "execution_count": 43,
   "id": "acfe79a3",
   "metadata": {},
   "outputs": [
    {
     "ename": "Exception",
     "evalue": "('You have entered negative value', -4)",
     "output_type": "error",
     "traceback": [
      "\u001b[1;31m---------------------------------------------------------------------------\u001b[0m",
      "\u001b[1;31mException\u001b[0m                                 Traceback (most recent call last)",
      "Input \u001b[1;32mIn [43]\u001b[0m, in \u001b[0;36m<cell line: 1>\u001b[1;34m()\u001b[0m\n\u001b[1;32m----> 1\u001b[0m \u001b[43mtest\u001b[49m\u001b[43m(\u001b[49m\u001b[38;5;241;43m-\u001b[39;49m\u001b[38;5;241;43m4\u001b[39;49m\u001b[43m)\u001b[49m\n",
      "Input \u001b[1;32mIn [42]\u001b[0m, in \u001b[0;36mtest\u001b[1;34m(a)\u001b[0m\n\u001b[0;32m      1\u001b[0m \u001b[38;5;28;01mdef\u001b[39;00m \u001b[38;5;21mtest\u001b[39m(a):\n\u001b[0;32m      2\u001b[0m     \u001b[38;5;28;01mif\u001b[39;00m a\u001b[38;5;241m<\u001b[39m\u001b[38;5;241m0\u001b[39m:\n\u001b[1;32m----> 3\u001b[0m         \u001b[38;5;28;01mraise\u001b[39;00m \u001b[38;5;167;01mException\u001b[39;00m(\u001b[38;5;124m\"\u001b[39m\u001b[38;5;124mYou have entered negative value\u001b[39m\u001b[38;5;124m\"\u001b[39m,a)\n\u001b[0;32m      4\u001b[0m     \u001b[38;5;28;01mreturn\u001b[39;00m a\n",
      "\u001b[1;31mException\u001b[0m: ('You have entered negative value', -4)"
     ]
    }
   ],
   "source": [
    "test(-4)"
   ]
  },
  {
   "cell_type": "code",
   "execution_count": 46,
   "id": "4478ce51",
   "metadata": {},
   "outputs": [],
   "source": [
    "def test(a):\n",
    "    if a<0:\n",
    "        raise ZeroDivisionError(\"You have entered negative value\",a)\n",
    "    return a    "
   ]
  },
  {
   "cell_type": "code",
   "execution_count": 47,
   "id": "c4787470",
   "metadata": {},
   "outputs": [
    {
     "ename": "ZeroDivisionError",
     "evalue": "('You have entered negative value', -4)",
     "output_type": "error",
     "traceback": [
      "\u001b[1;31m---------------------------------------------------------------------------\u001b[0m",
      "\u001b[1;31mZeroDivisionError\u001b[0m                         Traceback (most recent call last)",
      "Input \u001b[1;32mIn [47]\u001b[0m, in \u001b[0;36m<cell line: 1>\u001b[1;34m()\u001b[0m\n\u001b[1;32m----> 1\u001b[0m \u001b[43mtest\u001b[49m\u001b[43m(\u001b[49m\u001b[38;5;241;43m-\u001b[39;49m\u001b[38;5;241;43m4\u001b[39;49m\u001b[43m)\u001b[49m\n",
      "Input \u001b[1;32mIn [46]\u001b[0m, in \u001b[0;36mtest\u001b[1;34m(a)\u001b[0m\n\u001b[0;32m      1\u001b[0m \u001b[38;5;28;01mdef\u001b[39;00m \u001b[38;5;21mtest\u001b[39m(a):\n\u001b[0;32m      2\u001b[0m     \u001b[38;5;28;01mif\u001b[39;00m a\u001b[38;5;241m<\u001b[39m\u001b[38;5;241m0\u001b[39m:\n\u001b[1;32m----> 3\u001b[0m         \u001b[38;5;28;01mraise\u001b[39;00m \u001b[38;5;167;01mZeroDivisionError\u001b[39;00m(\u001b[38;5;124m\"\u001b[39m\u001b[38;5;124mYou have entered negative value\u001b[39m\u001b[38;5;124m\"\u001b[39m,a)\n\u001b[0;32m      4\u001b[0m     \u001b[38;5;28;01mreturn\u001b[39;00m a\n",
      "\u001b[1;31mZeroDivisionError\u001b[0m: ('You have entered negative value', -4)"
     ]
    }
   ],
   "source": [
    "test(-4)"
   ]
  },
  {
   "cell_type": "code",
   "execution_count": null,
   "id": "08b1fcab",
   "metadata": {},
   "outputs": [],
   "source": []
  }
 ],
 "metadata": {
  "kernelspec": {
   "display_name": "Python 3 (ipykernel)",
   "language": "python",
   "name": "python3"
  },
  "language_info": {
   "codemirror_mode": {
    "name": "ipython",
    "version": 3
   },
   "file_extension": ".py",
   "mimetype": "text/x-python",
   "name": "python",
   "nbconvert_exporter": "python",
   "pygments_lexer": "ipython3",
   "version": "3.9.12"
  }
 },
 "nbformat": 4,
 "nbformat_minor": 5
}
