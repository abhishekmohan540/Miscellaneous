{
 "cells": [
  {
   "cell_type": "code",
   "execution_count": 2,
   "id": "ccfcaac7",
   "metadata": {},
   "outputs": [],
   "source": [
    "import logging"
   ]
  },
  {
   "cell_type": "code",
   "execution_count": 2,
   "id": "beacbee1",
   "metadata": {},
   "outputs": [],
   "source": [
    "logging.basicConfig(filename = \"test.log\")"
   ]
  },
  {
   "cell_type": "code",
   "execution_count": 3,
   "id": "835bcb48",
   "metadata": {},
   "outputs": [
    {
     "data": {
      "text/plain": [
       "'C:\\\\Users\\\\DELL'"
      ]
     },
     "execution_count": 3,
     "metadata": {},
     "output_type": "execute_result"
    }
   ],
   "source": [
    "pwd()"
   ]
  },
  {
   "cell_type": "code",
   "execution_count": 1,
   "id": "552769b9",
   "metadata": {},
   "outputs": [],
   "source": [
    "#print() is not used when we write code in produvction. There we use logging. "
   ]
  },
  {
   "cell_type": "code",
   "execution_count": 4,
   "id": "c939a610",
   "metadata": {},
   "outputs": [],
   "source": [
    "#Types of Logging\n",
    "#DEBUG\n",
    "#INFO\n",
    "#WARNING\n",
    "#ERROR\n",
    "#CRITICAL\n"
   ]
  },
  {
   "cell_type": "code",
   "execution_count": 5,
   "id": "493d1de7",
   "metadata": {},
   "outputs": [],
   "source": [
    "logging.info(\"this is my info log \")\n",
    "logging.warning(\"this is my warning log\")\n",
    "logging.error(\"this is my error log\")"
   ]
  },
  {
   "cell_type": "code",
   "execution_count": 6,
   "id": "5766f25f",
   "metadata": {},
   "outputs": [],
   "source": [
    "#check test.log page in Home"
   ]
  },
  {
   "cell_type": "code",
   "execution_count": 7,
   "id": "49c2b30c",
   "metadata": {},
   "outputs": [],
   "source": [
    "logging.shutdown()"
   ]
  },
  {
   "cell_type": "code",
   "execution_count": 3,
   "id": "bb5a010b",
   "metadata": {},
   "outputs": [],
   "source": [
    "logging.basicConfig(filename = \"test.log\", level = logging.INFO)"
   ]
  },
  {
   "cell_type": "code",
   "execution_count": 4,
   "id": "8e5df1d6",
   "metadata": {},
   "outputs": [],
   "source": [
    "logging.info(\"this is my info log \")\n",
    "logging.warning(\"this is my warning log\")\n",
    "logging.error(\"this is my error log\")"
   ]
  },
  {
   "cell_type": "code",
   "execution_count": 5,
   "id": "5623eacc",
   "metadata": {},
   "outputs": [],
   "source": [
    "logging.shutdown()"
   ]
  },
  {
   "cell_type": "code",
   "execution_count": 1,
   "id": "4194f8bc",
   "metadata": {},
   "outputs": [],
   "source": [
    "import logging\n",
    "logging.basicConfig(filename = \"test2.log\", level = logging.DEBUG, format = '%(asctime)s %(levelname)s %(message)s')"
   ]
  },
  {
   "cell_type": "code",
   "execution_count": 5,
   "id": "ff4fd875",
   "metadata": {},
   "outputs": [],
   "source": [
    "# '%(asctime)s %(levelname)s %(message)s' This will add date and time also along with message and level(info,warning, error etc.)"
   ]
  },
  {
   "cell_type": "code",
   "execution_count": 3,
   "id": "3df3c5ad",
   "metadata": {},
   "outputs": [],
   "source": [
    "logging.info(\"this is my info log\")\n",
    "logging.warning(\"this is my warning log\")\n",
    "logging.debug(\"this is my debug log\")"
   ]
  },
  {
   "cell_type": "code",
   "execution_count": null,
   "id": "d151f1ff",
   "metadata": {},
   "outputs": [],
   "source": []
  },
  {
   "cell_type": "code",
   "execution_count": 3,
   "id": "dd644d4e",
   "metadata": {},
   "outputs": [],
   "source": [
    "#check test2.log file in home. You can see date and time as well with the three statements"
   ]
  },
  {
   "cell_type": "code",
   "execution_count": 4,
   "id": "59c53bcb",
   "metadata": {},
   "outputs": [],
   "source": [
    "#Before I runned test2.log without using levelname so levels were not available\n",
    "# later when we added levelname in test2.log file then level name is visible"
   ]
  },
  {
   "cell_type": "code",
   "execution_count": 6,
   "id": "cd4785ef",
   "metadata": {},
   "outputs": [],
   "source": [
    "#Order of Priority:-\n",
    "# ERROR\n",
    "# WARNING\n",
    "# INFO\n",
    "# DEBUG"
   ]
  },
  {
   "cell_type": "code",
   "execution_count": 1,
   "id": "2478eab7",
   "metadata": {},
   "outputs": [],
   "source": [
    "import logging\n",
    "logging.basicConfig(filename = \"test2.log\", level = logging.ERROR, format = '%(asctime)s %(levelname)s %(message)s')"
   ]
  },
  {
   "cell_type": "code",
   "execution_count": 2,
   "id": "220e2e4e",
   "metadata": {},
   "outputs": [],
   "source": [
    "logging.info(\"this is my info log\")\n",
    "logging.warning(\"this is my warning log\")\n",
    "logging.debug(\"this is my debug log\")\n",
    "logging.error(\"this is my error log\")"
   ]
  },
  {
   "cell_type": "code",
   "execution_count": 3,
   "id": "cc404358",
   "metadata": {},
   "outputs": [],
   "source": [
    "# Here only the last log which is error log runned and others didn't. This is because of the level set in above code as logging.error"
   ]
  },
  {
   "cell_type": "markdown",
   "id": "bd07665d",
   "metadata": {},
   "source": [
    "    Priority of levels:-\n",
    "    1. error\n",
    "    2. warning\n",
    "    3. info\n",
    "    4. debug"
   ]
  },
  {
   "cell_type": "markdown",
   "id": "392a68a5",
   "metadata": {},
   "source": [
    "    If you have set level as error, then warning,info,debug will not log. \n",
    "    But if you have set level as debug then error,warning,info will log if they are called."
   ]
  },
  {
   "cell_type": "markdown",
   "id": "76926aae",
   "metadata": {},
   "source": [
    "    If you have set info as level then error,info and warning will log but debug will not log."
   ]
  },
  {
   "cell_type": "code",
   "execution_count": 1,
   "id": "261604bf",
   "metadata": {},
   "outputs": [],
   "source": [
    "import logging\n",
    "logging.basicConfig(filename = \"test2.log\", level = logging.INFO, format = '%(asctime)s %(levelname)s %(message)s')"
   ]
  },
  {
   "cell_type": "code",
   "execution_count": 2,
   "id": "f4eb9916",
   "metadata": {},
   "outputs": [],
   "source": [
    "logging.info(\"this is my info log\")\n",
    "logging.warning(\"this is my warning log\")\n",
    "logging.debug(\"this is my debug log\")\n",
    "logging.error(\"this is my error log\")"
   ]
  },
  {
   "cell_type": "code",
   "execution_count": 3,
   "id": "2b712aac",
   "metadata": {},
   "outputs": [],
   "source": [
    "#This has worked fine."
   ]
  },
  {
   "cell_type": "code",
   "execution_count": 4,
   "id": "58d84287",
   "metadata": {},
   "outputs": [],
   "source": [
    "#Now lets try to write a code using logging"
   ]
  },
  {
   "cell_type": "code",
   "execution_count": 1,
   "id": "30b15600",
   "metadata": {},
   "outputs": [],
   "source": [
    "import logging\n",
    "logging.basicConfig(filename = \"test3.log\", level = logging.DEBUG, format = '%(asctime)s %(levelname)s %(message)s')"
   ]
  },
  {
   "cell_type": "code",
   "execution_count": 5,
   "id": "112b2e47",
   "metadata": {},
   "outputs": [],
   "source": [
    "def divbyzero(a,b):\n",
    "    logging.info(\"this is start of my code and I am trying to enter %s and %s,\",a,b)\n",
    "    try:\n",
    "        div = a/b\n",
    "        logging.info(\"Executed succeessfully\")\n",
    "    except Exception as e:\n",
    "        logging.error(\"Error has occured\")\n",
    "        logging.exception(\"Exception occured\" + str(e))"
   ]
  },
  {
   "cell_type": "code",
   "execution_count": 6,
   "id": "5e3a6fd4",
   "metadata": {},
   "outputs": [],
   "source": [
    "divbyzero(4,5)"
   ]
  },
  {
   "cell_type": "code",
   "execution_count": 7,
   "id": "50f3f4eb",
   "metadata": {},
   "outputs": [],
   "source": [
    "divbyzero(40,5)"
   ]
  },
  {
   "cell_type": "code",
   "execution_count": 8,
   "id": "3e186ce1",
   "metadata": {},
   "outputs": [],
   "source": [
    "divbyzero(40,0)"
   ]
  },
  {
   "cell_type": "code",
   "execution_count": 9,
   "id": "333c9feb",
   "metadata": {},
   "outputs": [],
   "source": [
    "# We can see the output in test3.log file"
   ]
  },
  {
   "cell_type": "code",
   "execution_count": 11,
   "id": "1b270f2c",
   "metadata": {},
   "outputs": [],
   "source": [
    "logging.shutdown()"
   ]
  },
  {
   "cell_type": "code",
   "execution_count": 1,
   "id": "62709a6a",
   "metadata": {},
   "outputs": [],
   "source": [
    "# (\"%s\", a) is a place holder"
   ]
  },
  {
   "cell_type": "code",
   "execution_count": null,
   "id": "71820910",
   "metadata": {},
   "outputs": [],
   "source": []
  }
 ],
 "metadata": {
  "kernelspec": {
   "display_name": "Python 3 (ipykernel)",
   "language": "python",
   "name": "python3"
  },
  "language_info": {
   "codemirror_mode": {
    "name": "ipython",
    "version": 3
   },
   "file_extension": ".py",
   "mimetype": "text/x-python",
   "name": "python",
   "nbconvert_exporter": "python",
   "pygments_lexer": "ipython3",
   "version": "3.9.12"
  }
 },
 "nbformat": 4,
 "nbformat_minor": 5
}
