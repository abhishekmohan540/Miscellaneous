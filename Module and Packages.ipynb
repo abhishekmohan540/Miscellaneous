{
 "cells": [
  {
   "cell_type": "code",
   "execution_count": 1,
   "id": "a216643b",
   "metadata": {},
   "outputs": [
    {
     "data": {
      "text/plain": [
       "'C:\\\\Users\\\\DELL'"
      ]
     },
     "execution_count": 1,
     "metadata": {},
     "output_type": "execute_result"
    }
   ],
   "source": [
    "pwd"
   ]
  },
  {
   "cell_type": "code",
   "execution_count": 2,
   "id": "4027f093",
   "metadata": {},
   "outputs": [
    {
     "name": "stdout",
     "output_type": "stream",
     "text": [
      " Volume in drive C has no label.\n",
      " Volume Serial Number is 0ADF-48C3\n",
      "\n",
      " Directory of C:\\Users\\DELL\n",
      "\n",
      "17-12-2022  15:55    <DIR>          .\n",
      "17-12-2022  15:55    <DIR>          ..\n",
      "24-09-2022  19:45               140 .bash_history\n",
      "03-09-2022  14:21    <DIR>          .cache\n",
      "24-09-2022  19:44                68 .gitconfig\n",
      "17-12-2022  15:53    <DIR>          .ipynb_checkpoints\n",
      "24-09-2022  19:24    <DIR>          .ipython\n",
      "19-11-2022  17:19    <DIR>          .jupyter\n",
      "19-09-2022  12:28    <DIR>          .vscode\n",
      "03-09-2022  13:41    <DIR>          3D Objects\n",
      "19-09-2022  11:22    <DIR>          anaconda3\n",
      "26-09-2022  13:32            19,859 Assignment_001.ipynb\n",
      "03-09-2022  13:41    <DIR>          Contacts\n",
      "03-10-2022  15:00            38,631 Copy_of_FSDS_bootcamp_assignment_002_Oct_01.ipynb\n",
      "01-10-2022  14:41            59,383 demo_002.ipynb\n",
      "01-10-2022  14:41            57,301 demo_003.ipynb\n",
      "09-10-2022  11:27           117,701 demo_005.ipynb\n",
      "19-11-2022  09:58    <DIR>          Desktop\n",
      "14-11-2022  12:40            22,228 Dictionary.ipynb\n",
      "19-09-2022  11:22    <DIR>          Documents\n",
      "17-12-2022  16:00    <DIR>          Downloads\n",
      "27-11-2022  17:53            38,151 Exception_Handling.ipynb\n",
      "03-09-2022  13:41    <DIR>          Favorites\n",
      "01-11-2022  14:09            22,859 FSDS_2.0_Assignment_29.10.2022_solutions.ipynb\n",
      "09-10-2022  19:56            20,416 FSDS_bootcamp_assignment_003_Oct_08.ipynb\n",
      "21-10-2022  21:07            15,610 FSDS_bootcamp_assignment_005_Oct_16_solutions.ipynb\n",
      "02-11-2022  20:50            14,305 function 30th oct practice FSDS_2.0.ipynb\n",
      "14-11-2022  13:12            24,150 Function_12_Nov'22.ipynb\n",
      "01-11-2022  12:56            12,801 Hello Everyone.docx\n",
      "21-11-2022  13:07            98,913 Iterator_Generator,_File_System.ipynb\n",
      "03-09-2022  13:41    <DIR>          Links\n",
      "28-11-2022  13:53             4,123 Logger.ipynb\n",
      "07-11-2022  18:03    <DIR>          Microsoft\n",
      "03-09-2022  13:41    <DIR>          Music\n",
      "03-09-2022  13:50    <DIR>          OneDrive\n",
      "03-09-2022  13:43    <DIR>          Pictures\n",
      "26-11-2022  15:51            76,063 questions.ipynb\n",
      "03-09-2022  13:41    <DIR>          Saved Games\n",
      "03-09-2022  13:43    <DIR>          Searches\n",
      "28-11-2022  13:16               284 test.log\n",
      "19-11-2022  12:37               102 test1.txt\n",
      "28-11-2022  13:22               297 test2.log\n",
      "19-11-2022  12:21                51 test2.txt\n",
      "22-10-2022  00:14            35,653 Untitled.ipynb\n",
      "05-11-2022  11:41            48,228 Untitled1.ipynb\n",
      "26-11-2022  14:56               589 Untitled2.ipynb\n",
      "17-12-2022  15:55               589 Untitled3.ipynb\n",
      "03-09-2022  14:00    <DIR>          Videos\n",
      "              26 File(s)        728,495 bytes\n",
      "              22 Dir(s)  86,969,028,608 bytes free\n"
     ]
    }
   ],
   "source": [
    "ls"
   ]
  },
  {
   "cell_type": "code",
   "execution_count": 3,
   "id": "0164c1d2",
   "metadata": {},
   "outputs": [
    {
     "data": {
      "text/plain": [
       "<_io.TextIOWrapper name='test1.py' mode='w' encoding='cp1252'>"
      ]
     },
     "execution_count": 3,
     "metadata": {},
     "output_type": "execute_result"
    }
   ],
   "source": [
    "open(\"test1.py\", \"w\")"
   ]
  },
  {
   "cell_type": "code",
   "execution_count": 4,
   "id": "a52ad6bf",
   "metadata": {},
   "outputs": [
    {
     "name": "stdout",
     "output_type": "stream",
     "text": [
      " Volume in drive C has no label.\n",
      " Volume Serial Number is 0ADF-48C3\n",
      "\n",
      " Directory of C:\\Users\\DELL\n",
      "\n",
      "17-12-2022  16:27    <DIR>          .\n",
      "17-12-2022  16:27    <DIR>          ..\n",
      "24-09-2022  19:45               140 .bash_history\n",
      "03-09-2022  14:21    <DIR>          .cache\n",
      "24-09-2022  19:44                68 .gitconfig\n",
      "17-12-2022  15:53    <DIR>          .ipynb_checkpoints\n",
      "24-09-2022  19:24    <DIR>          .ipython\n",
      "19-11-2022  17:19    <DIR>          .jupyter\n",
      "19-09-2022  12:28    <DIR>          .vscode\n",
      "03-09-2022  13:41    <DIR>          3D Objects\n",
      "19-09-2022  11:22    <DIR>          anaconda3\n",
      "26-09-2022  13:32            19,859 Assignment_001.ipynb\n",
      "03-09-2022  13:41    <DIR>          Contacts\n",
      "03-10-2022  15:00            38,631 Copy_of_FSDS_bootcamp_assignment_002_Oct_01.ipynb\n",
      "01-10-2022  14:41            59,383 demo_002.ipynb\n",
      "01-10-2022  14:41            57,301 demo_003.ipynb\n",
      "09-10-2022  11:27           117,701 demo_005.ipynb\n",
      "19-11-2022  09:58    <DIR>          Desktop\n",
      "14-11-2022  12:40            22,228 Dictionary.ipynb\n",
      "19-09-2022  11:22    <DIR>          Documents\n",
      "17-12-2022  16:00    <DIR>          Downloads\n",
      "27-11-2022  17:53            38,151 Exception_Handling.ipynb\n",
      "03-09-2022  13:41    <DIR>          Favorites\n",
      "01-11-2022  14:09            22,859 FSDS_2.0_Assignment_29.10.2022_solutions.ipynb\n",
      "09-10-2022  19:56            20,416 FSDS_bootcamp_assignment_003_Oct_08.ipynb\n",
      "21-10-2022  21:07            15,610 FSDS_bootcamp_assignment_005_Oct_16_solutions.ipynb\n",
      "02-11-2022  20:50            14,305 function 30th oct practice FSDS_2.0.ipynb\n",
      "14-11-2022  13:12            24,150 Function_12_Nov'22.ipynb\n",
      "01-11-2022  12:56            12,801 Hello Everyone.docx\n",
      "21-11-2022  13:07            98,913 Iterator_Generator,_File_System.ipynb\n",
      "03-09-2022  13:41    <DIR>          Links\n",
      "28-11-2022  13:53             4,123 Logger.ipynb\n",
      "07-11-2022  18:03    <DIR>          Microsoft\n",
      "03-09-2022  13:41    <DIR>          Music\n",
      "03-09-2022  13:50    <DIR>          OneDrive\n",
      "03-09-2022  13:43    <DIR>          Pictures\n",
      "26-11-2022  15:51            76,063 questions.ipynb\n",
      "03-09-2022  13:41    <DIR>          Saved Games\n",
      "03-09-2022  13:43    <DIR>          Searches\n",
      "28-11-2022  13:16               284 test.log\n",
      "17-12-2022  16:27                 0 test1.py\n",
      "19-11-2022  12:37               102 test1.txt\n",
      "28-11-2022  13:22               297 test2.log\n",
      "19-11-2022  12:21                51 test2.txt\n",
      "22-10-2022  00:14            35,653 Untitled.ipynb\n",
      "05-11-2022  11:41            48,228 Untitled1.ipynb\n",
      "26-11-2022  14:56               589 Untitled2.ipynb\n",
      "17-12-2022  16:27             4,852 Untitled3.ipynb\n",
      "03-09-2022  14:00    <DIR>          Videos\n",
      "              27 File(s)        732,758 bytes\n",
      "              22 Dir(s)  86,967,525,376 bytes free\n"
     ]
    }
   ],
   "source": [
    "ls"
   ]
  },
  {
   "cell_type": "code",
   "execution_count": 5,
   "id": "d2c03adb",
   "metadata": {},
   "outputs": [],
   "source": [
    "#We have created a .py file in our directory named test1.py"
   ]
  },
  {
   "cell_type": "code",
   "execution_count": 6,
   "id": "b3474ac0",
   "metadata": {},
   "outputs": [],
   "source": [
    "#This can be done by using notepad++ as well to create a .py file in your directory location."
   ]
  },
  {
   "cell_type": "code",
   "execution_count": 7,
   "id": "4fb49a9c",
   "metadata": {},
   "outputs": [],
   "source": [
    "#Go to file directory location, open test1.py file and write your code there."
   ]
  },
  {
   "cell_type": "code",
   "execution_count": 1,
   "id": "67ec8a7e",
   "metadata": {},
   "outputs": [],
   "source": [
    "import test1"
   ]
  },
  {
   "cell_type": "code",
   "execution_count": 2,
   "id": "930c4479",
   "metadata": {},
   "outputs": [
    {
     "data": {
      "text/plain": [
       "9"
      ]
     },
     "execution_count": 2,
     "metadata": {},
     "output_type": "execute_result"
    }
   ],
   "source": [
    "test1.mohan1(4,5)"
   ]
  },
  {
   "cell_type": "code",
   "execution_count": 3,
   "id": "045e78f2",
   "metadata": {},
   "outputs": [
    {
     "data": {
      "text/plain": [
       "30"
      ]
     },
     "execution_count": 3,
     "metadata": {},
     "output_type": "execute_result"
    }
   ],
   "source": [
    "test1.mohan2(5,6)"
   ]
  },
  {
   "cell_type": "code",
   "execution_count": 4,
   "id": "5ff503fa",
   "metadata": {},
   "outputs": [
    {
     "data": {
      "text/plain": [
       "20.0"
      ]
     },
     "execution_count": 4,
     "metadata": {},
     "output_type": "execute_result"
    }
   ],
   "source": [
    "test1.mohan3(100,5)"
   ]
  },
  {
   "cell_type": "code",
   "execution_count": 5,
   "id": "bc101f4f",
   "metadata": {},
   "outputs": [
    {
     "name": "stdout",
     "output_type": "stream",
     "text": [
      "Welcome to Python\n"
     ]
    }
   ],
   "source": [
    "test1.mohan4()"
   ]
  },
  {
   "cell_type": "code",
   "execution_count": 6,
   "id": "cbd8e515",
   "metadata": {},
   "outputs": [],
   "source": [
    "# Here test1 is a module which can be used anywhere amd at anytime after importing it."
   ]
  },
  {
   "cell_type": "code",
   "execution_count": 7,
   "id": "bbfd00f0",
   "metadata": {},
   "outputs": [],
   "source": [
    "# If I want to import only specific functions from test1 module then,"
   ]
  },
  {
   "cell_type": "code",
   "execution_count": 8,
   "id": "066339aa",
   "metadata": {},
   "outputs": [],
   "source": [
    "from test1 import mohan4"
   ]
  },
  {
   "cell_type": "code",
   "execution_count": 9,
   "id": "867eb6dd",
   "metadata": {},
   "outputs": [
    {
     "name": "stdout",
     "output_type": "stream",
     "text": [
      "Welcome to Python\n"
     ]
    }
   ],
   "source": [
    "mohan4()"
   ]
  },
  {
   "cell_type": "code",
   "execution_count": 11,
   "id": "ca8daa37",
   "metadata": {},
   "outputs": [
    {
     "data": {
      "text/plain": [
       "<function dir>"
      ]
     },
     "execution_count": 11,
     "metadata": {},
     "output_type": "execute_result"
    }
   ],
   "source": [
    "dir"
   ]
  },
  {
   "cell_type": "code",
   "execution_count": 12,
   "id": "8cbb35f5",
   "metadata": {},
   "outputs": [
    {
     "data": {
      "text/plain": [
       "'C:\\\\Users\\\\DELL'"
      ]
     },
     "execution_count": 12,
     "metadata": {},
     "output_type": "execute_result"
    }
   ],
   "source": [
    "pwd"
   ]
  },
  {
   "cell_type": "code",
   "execution_count": 13,
   "id": "f6283d84",
   "metadata": {},
   "outputs": [],
   "source": [
    "#Exampe - 02"
   ]
  },
  {
   "cell_type": "code",
   "execution_count": 14,
   "id": "0c271ba7",
   "metadata": {},
   "outputs": [
    {
     "data": {
      "text/plain": [
       "<_io.TextIOWrapper name='my_module.py' mode='w' encoding='cp1252'>"
      ]
     },
     "execution_count": 14,
     "metadata": {},
     "output_type": "execute_result"
    }
   ],
   "source": [
    "open(\"my_module.py\", \"w\")"
   ]
  },
  {
   "cell_type": "code",
   "execution_count": 15,
   "id": "79409a8c",
   "metadata": {},
   "outputs": [],
   "source": [
    "#Go to my module file and write your code there."
   ]
  },
  {
   "cell_type": "code",
   "execution_count": 16,
   "id": "411f6ee5",
   "metadata": {},
   "outputs": [],
   "source": [
    "#Now we can use this module"
   ]
  },
  {
   "cell_type": "code",
   "execution_count": 17,
   "id": "3b6f38e6",
   "metadata": {},
   "outputs": [],
   "source": [
    "import my_module"
   ]
  },
  {
   "cell_type": "code",
   "execution_count": 18,
   "id": "5018ce60",
   "metadata": {},
   "outputs": [
    {
     "data": {
      "text/plain": [
       "'iNeuron'"
      ]
     },
     "execution_count": 18,
     "metadata": {},
     "output_type": "execute_result"
    }
   ],
   "source": [
    "my_module.getname()"
   ]
  },
  {
   "cell_type": "code",
   "execution_count": 19,
   "id": "a8ed500a",
   "metadata": {},
   "outputs": [
    {
     "data": {
      "text/plain": [
       "['data science', 'blockchain', 'cybersecurity']"
      ]
     },
     "execution_count": 19,
     "metadata": {},
     "output_type": "execute_result"
    }
   ],
   "source": [
    "my_module.getcourse()"
   ]
  },
  {
   "cell_type": "code",
   "execution_count": 20,
   "id": "d07d5011",
   "metadata": {},
   "outputs": [
    {
     "data": {
      "text/plain": [
       "'Welcome from iNeuron'"
      ]
     },
     "execution_count": 20,
     "metadata": {},
     "output_type": "execute_result"
    }
   ],
   "source": [
    "my_module.greetings()"
   ]
  },
  {
   "cell_type": "code",
   "execution_count": 21,
   "id": "a4c3d787",
   "metadata": {},
   "outputs": [
    {
     "data": {
      "text/plain": [
       "{'name': 'iNeuron',\n",
       " 'course': ['data science', 'blockchain', 'cybersecurity'],\n",
       " 'greetings': 'Welcome from iNeuron'}"
      ]
     },
     "execution_count": 21,
     "metadata": {},
     "output_type": "execute_result"
    }
   ],
   "source": [
    "my_module.data"
   ]
  },
  {
   "cell_type": "code",
   "execution_count": 22,
   "id": "ca4e921f",
   "metadata": {},
   "outputs": [],
   "source": [
    "#Module is basically a file that we create which can be used to reduce our effort of writing code again and again."
   ]
  },
  {
   "cell_type": "code",
   "execution_count": 23,
   "id": "b69281e6",
   "metadata": {},
   "outputs": [],
   "source": [
    "#Package is simply collection of modules."
   ]
  },
  {
   "cell_type": "code",
   "execution_count": 24,
   "id": "dd948f89",
   "metadata": {},
   "outputs": [],
   "source": [
    "#In Layman language, packages can be considered as folders and modules can be considered as files."
   ]
  },
  {
   "cell_type": "code",
   "execution_count": 25,
   "id": "e09e2e18",
   "metadata": {},
   "outputs": [
    {
     "name": "stdout",
     "output_type": "stream",
     "text": [
      " Volume in drive C has no label.\n",
      " Volume Serial Number is 0ADF-48C3\n",
      "\n",
      " Directory of C:\\Users\\DELL\n",
      "\n",
      "17-12-2022  18:05    <DIR>          .\n",
      "17-12-2022  18:05    <DIR>          ..\n",
      "24-09-2022  19:45               140 .bash_history\n",
      "03-09-2022  14:21    <DIR>          .cache\n",
      "24-09-2022  19:44                68 .gitconfig\n",
      "17-12-2022  17:10    <DIR>          .ipynb_checkpoints\n",
      "24-09-2022  19:24    <DIR>          .ipython\n",
      "19-11-2022  17:19    <DIR>          .jupyter\n",
      "19-09-2022  12:28    <DIR>          .vscode\n",
      "17-12-2022  17:19    <DIR>          __pycache__\n",
      "03-09-2022  13:41    <DIR>          3D Objects\n",
      "19-09-2022  11:22    <DIR>          anaconda3\n",
      "26-09-2022  13:32            19,859 Assignment_001.ipynb\n",
      "03-09-2022  13:41    <DIR>          Contacts\n",
      "03-10-2022  15:00            38,631 Copy_of_FSDS_bootcamp_assignment_002_Oct_01.ipynb\n",
      "01-10-2022  14:41            59,383 demo_002.ipynb\n",
      "01-10-2022  14:41            57,301 demo_003.ipynb\n",
      "09-10-2022  11:27           117,701 demo_005.ipynb\n",
      "19-11-2022  09:58    <DIR>          Desktop\n",
      "14-11-2022  12:40            22,228 Dictionary.ipynb\n",
      "19-09-2022  11:22    <DIR>          Documents\n",
      "17-12-2022  16:00    <DIR>          Downloads\n",
      "27-11-2022  17:53            38,151 Exception_Handling.ipynb\n",
      "03-09-2022  13:41    <DIR>          Favorites\n",
      "01-11-2022  14:09            22,859 FSDS_2.0_Assignment_29.10.2022_solutions.ipynb\n",
      "09-10-2022  19:56            20,416 FSDS_bootcamp_assignment_003_Oct_08.ipynb\n",
      "21-10-2022  21:07            15,610 FSDS_bootcamp_assignment_005_Oct_16_solutions.ipynb\n",
      "02-11-2022  20:50            14,305 function 30th oct practice FSDS_2.0.ipynb\n",
      "14-11-2022  13:12            24,150 Function_12_Nov'22.ipynb\n",
      "01-11-2022  12:56            12,801 Hello Everyone.docx\n",
      "21-11-2022  13:07            98,913 Iterator_Generator,_File_System.ipynb\n",
      "03-09-2022  13:41    <DIR>          Links\n",
      "28-11-2022  13:53             4,123 Logger.ipynb\n",
      "07-11-2022  18:03    <DIR>          Microsoft\n",
      "17-12-2022  18:05            15,217 Module and Packages.ipynb\n",
      "03-09-2022  13:41    <DIR>          Music\n",
      "17-12-2022  17:18               255 my_module.py\n",
      "03-09-2022  13:50    <DIR>          OneDrive\n",
      "03-09-2022  13:43    <DIR>          Pictures\n",
      "26-11-2022  15:51            76,063 questions.ipynb\n",
      "03-09-2022  13:41    <DIR>          Saved Games\n",
      "03-09-2022  13:43    <DIR>          Searches\n",
      "28-11-2022  13:16               284 test.log\n",
      "17-12-2022  16:36               141 test1.py\n",
      "19-11-2022  12:37               102 test1.txt\n",
      "28-11-2022  13:22               297 test2.log\n",
      "19-11-2022  12:21                51 test2.txt\n",
      "22-10-2022  00:14            35,653 Untitled.ipynb\n",
      "05-11-2022  11:41            48,228 Untitled1.ipynb\n",
      "26-11-2022  14:56               589 Untitled2.ipynb\n",
      "03-09-2022  14:00    <DIR>          Videos\n",
      "              28 File(s)        743,519 bytes\n",
      "              23 Dir(s)  86,935,543,808 bytes free\n"
     ]
    }
   ],
   "source": [
    "ls"
   ]
  },
  {
   "cell_type": "code",
   "execution_count": null,
   "id": "71efd28f",
   "metadata": {},
   "outputs": [],
   "source": []
  }
 ],
 "metadata": {
  "kernelspec": {
   "display_name": "Python 3 (ipykernel)",
   "language": "python",
   "name": "python3"
  },
  "language_info": {
   "codemirror_mode": {
    "name": "ipython",
    "version": 3
   },
   "file_extension": ".py",
   "mimetype": "text/x-python",
   "name": "python",
   "nbconvert_exporter": "python",
   "pygments_lexer": "ipython3",
   "version": "3.9.12"
  }
 },
 "nbformat": 4,
 "nbformat_minor": 5
}
